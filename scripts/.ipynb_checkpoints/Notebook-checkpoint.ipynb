{
 "cells": [
  {
   "cell_type": "markdown",
   "id": "47df574e",
   "metadata": {},
   "source": [
    "# SPTAlign: subpixel registration using single-particle-tracking data\n",
    "\n",
    "\n",
    "## Objective\n",
    "\n",
    "The objective is to correct for subpixel drifts in a fluorescent image timeseries.\n",
    "\n",
    "\n",
    "## Detailed steps\n",
    "\n",
    "* Load the image stack\n",
    "* Read the tracking data\n",
    "* Measure the image displacement from frame t to (t+1) and apply correction in Fourier space"
   ]
  },
  {
   "cell_type": "markdown",
   "id": "38cc7914",
   "metadata": {},
   "source": [
    "## Load dependencies"
   ]
  },
  {
   "cell_type": "code",
   "execution_count": 1,
   "id": "41c7b0d3",
   "metadata": {},
   "outputs": [],
   "source": [
    "import numpy as np\n",
    "import matplotlib.pyplot as plt\n",
    "import pandas as pd\n",
    "from natsort import natsorted\n",
    "from glob import glob\n",
    "from Functions.sptalign import mean_displacement,check_consecutive,fourier_shift_frame,plot_displacement\n",
    "\n",
    "from tifffile import imread,imwrite\n",
    "from PIL import Image\n",
    "from scipy.ndimage.interpolation import shift\n",
    "from scipy.ndimage import fourier_shift\n",
    "from scipy.ndimage import shift\n",
    "from scipy.interpolate import interp1d\n",
    "\n",
    "import gc\n",
    "import os\n",
    "import shutil\n",
    "from numba import njit\n",
    "import time\n",
    "from tqdm import tqdm\n",
    "\n",
    "directory = \"../data/images/\"\n",
    "trajectories = \"../data/trajectories.csv\"\n",
    "output_dir = \"../output/\"\n",
    "\n",
    "if os.path.isdir(output_dir):\n",
    "    shutil.rmtree(output_dir)\n",
    "os.mkdir(output_dir)\n",
    "os.mkdir(output_dir+\"aligned/\")\n",
    "\n",
    "#colTID should be named \"TRACK_ID\" in the table\n",
    "colX = \"POSITION_X\"; colY = \"POSITION_Y\"; colTID = \"TRACK_ID\"; colF = \"FRAME\";\n",
    "\n",
    "# set pixel calibration used during tracking\n",
    "PxToUm = 0.1"
   ]
  },
  {
   "cell_type": "markdown",
   "id": "d36be90d",
   "metadata": {},
   "source": [
    "## Load image stack"
   ]
  },
  {
   "cell_type": "code",
   "execution_count": 2,
   "id": "a68d7878",
   "metadata": {},
   "outputs": [
    {
     "name": "stdout",
     "output_type": "stream",
     "text": [
      "Found 199 frames in folder ../data/images/\n",
      "tfm_example_gauss_blur0000.tif is set as the reference frame.\n"
     ]
    }
   ],
   "source": [
    "img_paths = natsorted(glob(directory+\"*.tif\")) #load images to align\n",
    "ref = imread(img_paths[0]) #set reference frame\n",
    "\n",
    "print(f\"Found {len(img_paths)} frames in folder {directory}\")\n",
    "print(f\"{os.path.split(img_paths[0])[-1]} is set as the reference frame.\")"
   ]
  },
  {
   "cell_type": "markdown",
   "id": "e57d6b48",
   "metadata": {},
   "source": [
    "## Load single particle tracking data"
   ]
  },
  {
   "cell_type": "code",
   "execution_count": 3,
   "id": "c3b800f8",
   "metadata": {},
   "outputs": [
    {
     "name": "stdout",
     "output_type": "stream",
     "text": [
      "Head of the tracking table:\n"
     ]
    },
    {
     "data": {
      "text/html": [
       "<div>\n",
       "<style scoped>\n",
       "    .dataframe tbody tr th:only-of-type {\n",
       "        vertical-align: middle;\n",
       "    }\n",
       "\n",
       "    .dataframe tbody tr th {\n",
       "        vertical-align: top;\n",
       "    }\n",
       "\n",
       "    .dataframe thead th {\n",
       "        text-align: right;\n",
       "    }\n",
       "</style>\n",
       "<table border=\"1\" class=\"dataframe\">\n",
       "  <thead>\n",
       "    <tr style=\"text-align: right;\">\n",
       "      <th></th>\n",
       "      <th>LABEL</th>\n",
       "      <th>ID</th>\n",
       "      <th>TRACK_ID</th>\n",
       "      <th>QUALITY</th>\n",
       "      <th>POSITION_X</th>\n",
       "      <th>POSITION_Y</th>\n",
       "      <th>POSITION_Z</th>\n",
       "      <th>POSITION_T</th>\n",
       "      <th>FRAME</th>\n",
       "      <th>RADIUS</th>\n",
       "      <th>...</th>\n",
       "      <th>ELLIPSE_X0</th>\n",
       "      <th>ELLIPSE_Y0</th>\n",
       "      <th>ELLIPSE_MAJOR</th>\n",
       "      <th>ELLIPSE_MINOR</th>\n",
       "      <th>ELLIPSE_THETA</th>\n",
       "      <th>ELLIPSE_ASPECTRATIO</th>\n",
       "      <th>AREA</th>\n",
       "      <th>PERIMETER</th>\n",
       "      <th>CIRCULARITY</th>\n",
       "      <th>SOLIDITY</th>\n",
       "    </tr>\n",
       "  </thead>\n",
       "  <tbody>\n",
       "    <tr>\n",
       "      <th>0</th>\n",
       "      <td>ID12288</td>\n",
       "      <td>12288</td>\n",
       "      <td>1</td>\n",
       "      <td>96.840538</td>\n",
       "      <td>2.800000</td>\n",
       "      <td>0.000000</td>\n",
       "      <td>0</td>\n",
       "      <td>6.40</td>\n",
       "      <td>128</td>\n",
       "      <td>0.25</td>\n",
       "      <td>...</td>\n",
       "      <td>0</td>\n",
       "      <td>0</td>\n",
       "      <td>0.25</td>\n",
       "      <td>0.25</td>\n",
       "      <td>0</td>\n",
       "      <td>1</td>\n",
       "      <td>0.19635</td>\n",
       "      <td>1.570796</td>\n",
       "      <td>1</td>\n",
       "      <td>1</td>\n",
       "    </tr>\n",
       "    <tr>\n",
       "      <th>1</th>\n",
       "      <td>ID15872</td>\n",
       "      <td>15872</td>\n",
       "      <td>1</td>\n",
       "      <td>102.086250</td>\n",
       "      <td>2.800000</td>\n",
       "      <td>0.000000</td>\n",
       "      <td>0</td>\n",
       "      <td>8.75</td>\n",
       "      <td>175</td>\n",
       "      <td>0.25</td>\n",
       "      <td>...</td>\n",
       "      <td>0</td>\n",
       "      <td>0</td>\n",
       "      <td>0.25</td>\n",
       "      <td>0.25</td>\n",
       "      <td>0</td>\n",
       "      <td>1</td>\n",
       "      <td>0.19635</td>\n",
       "      <td>1.570796</td>\n",
       "      <td>1</td>\n",
       "      <td>1</td>\n",
       "    </tr>\n",
       "    <tr>\n",
       "      <th>2</th>\n",
       "      <td>ID10247</td>\n",
       "      <td>10247</td>\n",
       "      <td>1</td>\n",
       "      <td>95.033905</td>\n",
       "      <td>2.800000</td>\n",
       "      <td>0.000000</td>\n",
       "      <td>0</td>\n",
       "      <td>5.05</td>\n",
       "      <td>101</td>\n",
       "      <td>0.25</td>\n",
       "      <td>...</td>\n",
       "      <td>0</td>\n",
       "      <td>0</td>\n",
       "      <td>0.25</td>\n",
       "      <td>0.25</td>\n",
       "      <td>0</td>\n",
       "      <td>1</td>\n",
       "      <td>0.19635</td>\n",
       "      <td>1.570796</td>\n",
       "      <td>1</td>\n",
       "      <td>1</td>\n",
       "    </tr>\n",
       "    <tr>\n",
       "      <th>3</th>\n",
       "      <td>ID13836</td>\n",
       "      <td>13836</td>\n",
       "      <td>1</td>\n",
       "      <td>109.994965</td>\n",
       "      <td>2.800000</td>\n",
       "      <td>0.000000</td>\n",
       "      <td>0</td>\n",
       "      <td>7.85</td>\n",
       "      <td>157</td>\n",
       "      <td>0.25</td>\n",
       "      <td>...</td>\n",
       "      <td>0</td>\n",
       "      <td>0</td>\n",
       "      <td>0.25</td>\n",
       "      <td>0.25</td>\n",
       "      <td>0</td>\n",
       "      <td>1</td>\n",
       "      <td>0.19635</td>\n",
       "      <td>1.570796</td>\n",
       "      <td>1</td>\n",
       "      <td>1</td>\n",
       "    </tr>\n",
       "    <tr>\n",
       "      <th>4</th>\n",
       "      <td>ID4112</td>\n",
       "      <td>4112</td>\n",
       "      <td>1</td>\n",
       "      <td>74.153656</td>\n",
       "      <td>2.542696</td>\n",
       "      <td>0.203932</td>\n",
       "      <td>0</td>\n",
       "      <td>0.80</td>\n",
       "      <td>16</td>\n",
       "      <td>0.25</td>\n",
       "      <td>...</td>\n",
       "      <td>0</td>\n",
       "      <td>0</td>\n",
       "      <td>0.25</td>\n",
       "      <td>0.25</td>\n",
       "      <td>0</td>\n",
       "      <td>1</td>\n",
       "      <td>0.19635</td>\n",
       "      <td>1.570796</td>\n",
       "      <td>1</td>\n",
       "      <td>1</td>\n",
       "    </tr>\n",
       "  </tbody>\n",
       "</table>\n",
       "<p>5 rows × 30 columns</p>\n",
       "</div>"
      ],
      "text/plain": [
       "     LABEL     ID  TRACK_ID     QUALITY  POSITION_X  POSITION_Y  POSITION_Z  \\\n",
       "0  ID12288  12288         1   96.840538    2.800000    0.000000           0   \n",
       "1  ID15872  15872         1  102.086250    2.800000    0.000000           0   \n",
       "2  ID10247  10247         1   95.033905    2.800000    0.000000           0   \n",
       "3  ID13836  13836         1  109.994965    2.800000    0.000000           0   \n",
       "4   ID4112   4112         1   74.153656    2.542696    0.203932           0   \n",
       "\n",
       "   POSITION_T  FRAME  RADIUS  ...  ELLIPSE_X0  ELLIPSE_Y0  ELLIPSE_MAJOR  \\\n",
       "0        6.40    128    0.25  ...           0           0           0.25   \n",
       "1        8.75    175    0.25  ...           0           0           0.25   \n",
       "2        5.05    101    0.25  ...           0           0           0.25   \n",
       "3        7.85    157    0.25  ...           0           0           0.25   \n",
       "4        0.80     16    0.25  ...           0           0           0.25   \n",
       "\n",
       "   ELLIPSE_MINOR  ELLIPSE_THETA  ELLIPSE_ASPECTRATIO     AREA  PERIMETER  \\\n",
       "0           0.25              0                    1  0.19635   1.570796   \n",
       "1           0.25              0                    1  0.19635   1.570796   \n",
       "2           0.25              0                    1  0.19635   1.570796   \n",
       "3           0.25              0                    1  0.19635   1.570796   \n",
       "4           0.25              0                    1  0.19635   1.570796   \n",
       "\n",
       "   CIRCULARITY  SOLIDITY  \n",
       "0            1         1  \n",
       "1            1         1  \n",
       "2            1         1  \n",
       "3            1         1  \n",
       "4            1         1  \n",
       "\n",
       "[5 rows x 30 columns]"
      ]
     },
     "metadata": {},
     "output_type": "display_data"
    },
    {
     "name": "stdout",
     "output_type": "stream",
     "text": [
      "Minimum time = 0, maximum time = 198\n",
      "Found 46 tracks in the reference frame\n"
     ]
    }
   ],
   "source": [
    "data = pd.read_csv(trajectories) #read trajectory file\n",
    "print(f\"Head of the tracking table:\")\n",
    "display(data.head(5))\n",
    "\n",
    "times = np.unique(data[colF].to_numpy()) #extract times for which tracks are available\n",
    "fullrange = list(np.linspace(min(times),max(times),int(max(times)-min(times))+1)) #all times\n",
    "framediff = list(set(fullrange) - set(list(times))) #missing frames\n",
    "\n",
    "print(f\"Minimum time = {np.amin(times)}, maximum time = {np.amax(times)}\")\n",
    "\n",
    "mean_displacement_x = []; mean_displacement_y = [];\n",
    "\n",
    "# Find tracks existing in the reference frame\n",
    "exists_at_ref = data[colF] == 0\n",
    "tracks_ref = data[exists_at_ref].TRACK_ID.unique()\n",
    "print(f\"Found {len(tracks_ref)} tracks in the reference frame\")"
   ]
  },
  {
   "cell_type": "markdown",
   "id": "8b9997cd",
   "metadata": {},
   "source": [
    "## Chose a threshold for the maximum accepted displacement"
   ]
  },
  {
   "cell_type": "code",
   "execution_count": 4,
   "id": "5d8516c4",
   "metadata": {},
   "outputs": [
    {
     "data": {
      "image/png": "[encoded data removed]",
      "text/plain": [
       "<Figure size 216x216 with 1 Axes>"
      ]
     },
     "metadata": {
      "needs_background": "light"
     },
     "output_type": "display_data"
    },
    {
     "name": "stdout",
     "output_type": "stream",
     "text": [
      "Max accepted displacement = 0.15848310718318445\n"
     ]
    }
   ],
   "source": [
    "#initialize displacement fields to 0.0\n",
    "mean_displacement_x_at_t = np.zeros(len(fullrange)); mean_displacement_y_at_t = np.zeros(len(fullrange));\n",
    "\n",
    "#Compute the mean displacement of all tracks and filter out outliers\n",
    "tracklist = np.unique(data[colTID].to_numpy())\n",
    "confinement_number = []\n",
    "for tid in tracklist:\n",
    "    trackid = data[colTID] == tid\n",
    "    x = data[trackid][colX].to_numpy()   #x associated to track 'tid'\n",
    "    y = data[trackid][colY].to_numpy()   #y associated to track 'tid'\n",
    "    frames = data[trackid][colF].to_numpy()\n",
    "    c = mean_displacement(x,y,frames)\n",
    "    confinement_number.append(c)\n",
    "\n",
    "fig,ax = plt.subplots(figsize=(3,3))\n",
    "ax.hist(confinement_number,bins=30,color=\"gray\")\n",
    "plt.xlabel(r\"Mean displacement from $t$ to $t+1$\")\n",
    "plt.show()\n",
    "    \n",
    "c_threshold = np.percentile(confinement_number,90)\n",
    "print(f\"Max accepted displacement = {c_threshold}\")"
   ]
  },
  {
   "cell_type": "markdown",
   "id": "6633d994",
   "metadata": {},
   "source": [
    "## Loop over all frames and correct drift when reference tracks are available"
   ]
  },
  {
   "cell_type": "code",
   "execution_count": 5,
   "id": "953bb877",
   "metadata": {
    "scrolled": true
   },
   "outputs": [
    {
     "name": "stderr",
     "output_type": "stream",
     "text": [
      "100%|██████████| 199/199 [00:15<00:00, 12.93it/s]\n"
     ]
    }
   ],
   "source": [
    "#Loop over all frames and align when tracking information is available\n",
    "for t in tqdm(times):\n",
    "    gc.collect()\n",
    "\n",
    "    ref = 0\n",
    "    #print(f\"Aligning frame {t} out of {max(times)}... \")\n",
    "\n",
    "    exists_at_t = data[colF] == t # Subtable of spots existing at time t\n",
    "    tracks_t = data[exists_at_t].TRACK_ID.unique() # Get tracks associated to those spots\n",
    "    track_intersect = np.intersect1d(tracks_ref,tracks_t) # Find intersection of tracks between ref and t\n",
    "\n",
    "    #Routine to align frames with no intersect to the last frame that was aligned, by chain rule\n",
    "    if len(track_intersect)<1:\n",
    "        s=1\n",
    "        while len(track_intersect)==0:\n",
    "            exists_at_new_ref = data[colF] == int(t-s)\n",
    "            tracks_new_ref = data[exists_at_new_ref].TRACK_ID.unique()\n",
    "            #print(tracks_new_ref,tracks_t)\n",
    "            track_intersect = np.intersect1d(tracks_new_ref,tracks_t)\n",
    "            #print(t,s,t-s,track_intersect)\n",
    "            s+=1\n",
    "\n",
    "            if s==20:\n",
    "                print(\"No reference time could be found... The algorithm will not function properly... \")\n",
    "                break\n",
    "        ref = int(t-s+1)\n",
    "        print(\"New reference time = \",ref)\n",
    "\n",
    "    # Use track matches to compute the drift\n",
    "    dx = []; dy = []; \n",
    "    for tid in track_intersect:\n",
    "        track_at_t = data[(data[colTID]==tid) & (data[colF]==t)]\n",
    "        track_at_ref = data[(data[colTID]==tid) & (data[colF]==ref)]\n",
    "        c_value = confinement_number[int(np.where(tracklist==tid)[0])]\n",
    "\n",
    "        xt = track_at_t[colX].to_numpy()[0]\n",
    "        yt = track_at_t[colY].to_numpy()[0]\n",
    "        if ref==0:\n",
    "            x0 = track_at_ref[colX].to_numpy()[0]\n",
    "            y0 = track_at_ref[colY].to_numpy()[0]\n",
    "        else:\n",
    "            #print(ref)\n",
    "            #print(len(mean_displacement_x_at_t))\n",
    "            x0 = track_at_ref[colX].to_numpy()[0] - mean_displacement_x_at_t[int(np.where(times==ref)[0])]\n",
    "            y0 = track_at_ref[colY].to_numpy()[0] - mean_displacement_y_at_t[int(np.where(times==ref)[0])]\n",
    "        if c_value<c_threshold:\n",
    "            dx.append(xt - x0)\n",
    "            dy.append(yt - y0)\n",
    "\n",
    "    if len(dx)>1:\n",
    "        mean_dx = np.mean(dx); mean_dy = np.mean(dy);\n",
    "        mean_displacement_x_at_t[int(t)] = mean_dx\n",
    "        mean_displacement_y_at_t[int(t)] = mean_dy\t\n",
    "        padded_t = str(t).zfill(4)\n",
    "        img_t = imread([s for s in img_paths if padded_t in s][0])\n",
    "        fftm1 = fourier_shift_frame(img_t,mean_dx,mean_dy,PxToUm)\n",
    "        imwrite(f\"{output_dir}aligned/out_{padded_t}.tif\",fftm1,dtype='uint16')\n",
    "\n",
    "        del img_t\n",
    "        del fftm1\n",
    "\n",
    "    else:\n",
    "        framediff = np.append(framediff,t)\n",
    "        framediff = np.sort(framediff)"
   ]
  },
  {
   "cell_type": "markdown",
   "id": "ad4bc748",
   "metadata": {},
   "source": [
    "## Drift profile"
   ]
  },
  {
   "cell_type": "code",
   "execution_count": 6,
   "id": "b13a23e6",
   "metadata": {},
   "outputs": [
    {
     "data": {
      "image/png": "[encoded data removed]",
      "text/plain": [
       "<Figure size 288x216 with 1 Axes>"
      ]
     },
     "metadata": {
      "needs_background": "light"
     },
     "output_type": "display_data"
    }
   ],
   "source": [
    "#Plot the displacement field before the interpolation pass\n",
    "plot_displacement(np.array(fullrange),mean_displacement_x_at_t,mean_displacement_y_at_t,output_dir+\"displacement_profile.png\")"
   ]
  },
  {
   "cell_type": "markdown",
   "id": "b967ec4e",
   "metadata": {},
   "source": [
    "## Second pass: interpolation of the missing displacement values"
   ]
  },
  {
   "cell_type": "code",
   "execution_count": 7,
   "id": "74591aba",
   "metadata": {},
   "outputs": [
    {
     "name": "stdout",
     "output_type": "stream",
     "text": [
      "Interpolating the shift of the frames for which we have no information...\n",
      "Frames  [29. 30. 31. 32. 33.]  are missing from the full range of frames...\n",
      "Processing chunk 0 lower bound = 29.0; upper_bound = 33.0...\n"
     ]
    }
   ],
   "source": [
    "print(\"Interpolating the shift of the frames for which we have no information...\")\n",
    "print(\"Frames \",framediff,\" are missing from the full range of frames...\")\n",
    "\n",
    "ref=0 #reference frame is the first\n",
    "slices,framediff = check_consecutive(framediff) #check if the missing frames are consecutive\n",
    "unique_groups = np.unique(slices) #group by consecutiveness\n",
    "\n",
    "for k in range(len(unique_groups)):\n",
    "    disp_x = np.delete(mean_displacement_x_at_t, np.array(framediff,dtype=int)) #prep the displacement arrays to have the same shape as \"times\"\n",
    "    disp_y = np.delete(mean_displacement_y_at_t, np.array(framediff,dtype=int))\n",
    "    lower_bound = np.amin(framediff[slices==unique_groups[k]]) #identify the bounds\n",
    "    upper_bound = np.amax(framediff[slices==unique_groups[k]])\n",
    "    print(f\"Processing chunk {k} lower bound = {lower_bound}; upper_bound = {upper_bound}...\")\n",
    "    loclb = int(np.where(times==(lower_bound-1))[0]) #find the position of the nearest neighbors to the bounds in \"times\"\n",
    "    locub = int(np.where(times==(upper_bound+1))[0])\n",
    "    nbrpoints = 10 #define number of points taken on both sides for the interpolation\n",
    "    lower_x = times[loclb-nbrpoints:(loclb+1)]; upper_x = times[(locub):locub+nbrpoints]\n",
    "    interpolate_x = np.concatenate([lower_x,upper_x])\n",
    "    lower_y1 = disp_x[loclb-nbrpoints:(loclb+1)]; upper_y1 = disp_x[(locub):locub+nbrpoints]\n",
    "    interpolate_y1 = np.concatenate([lower_y1,upper_y1])\n",
    "    lower_y2 = disp_y[loclb-nbrpoints:(loclb+1)]; upper_y2 = disp_y[(locub):locub+nbrpoints]\n",
    "    interpolate_y2 = np.concatenate([lower_y2,upper_y2])\n",
    "\n",
    "    interp_disp_x = interp1d(interpolate_x, interpolate_y1,fill_value=\"extrapolate\")\n",
    "    interp_disp_y = interp1d(interpolate_x, interpolate_y2,fill_value=\"extrapolate\")\n",
    "\n",
    "    x_to_interpolate = framediff[slices==unique_groups[k]]\n",
    "    frames_to_modify = np.array(framediff[slices==unique_groups[k]],dtype=int)\n",
    "\n",
    "    mean_displacement_x_at_t[frames_to_modify] = np.array([interp_disp_x(x) for x in x_to_interpolate])\n",
    "    mean_displacement_y_at_t[frames_to_modify] = np.array([interp_disp_y(x) for x in x_to_interpolate])\n",
    "\n",
    "#Apply interpolated alignment to those frames\n",
    "for k in range(len(framediff)):\n",
    "    target_frame = int(framediff[k])\n",
    "    mean_dx = disp_x[target_frame]; mean_dy = disp_y[target_frame];\n",
    "    padded_t = str(target_frame).zfill(4)\n",
    "    img_t = imread([s for s in img_paths if padded_t in s][0])\n",
    "    fftm1 = fourier_shift_frame(img_t,mean_dx,mean_dy,PxToUm)\n",
    "    imwrite(f\"{output_dir}aligned/out_{padded_t}.tif\",fftm1,dtype='uint16')"
   ]
  },
  {
   "cell_type": "markdown",
   "id": "2cb20b59",
   "metadata": {},
   "source": [
    "## Drift profile (after interpolation)"
   ]
  },
  {
   "cell_type": "code",
   "execution_count": null,
   "id": "bf96018e",
   "metadata": {},
   "outputs": [
    {
     "data": {
      "image/png": "[encoded data removed]",
      "text/plain": [
       "<Figure size 288x216 with 1 Axes>"
      ]
     },
     "metadata": {
      "needs_background": "light"
     },
     "output_type": "display_data"
    }
   ],
   "source": [
    "#Plot the displacement field after the interpolation\n",
    "plot_displacement(np.array(fullrange),mean_displacement_x_at_t,mean_displacement_y_at_t,output_dir+\"displacement_profile_corrected.png\")\n",
    "\n",
    "np.save(output_dir+\"dispx_interp.npy\",mean_displacement_x_at_t)\n",
    "np.save(output_dir+\"dispy_interp.npy\",mean_displacement_y_at_t)"
   ]
  }
 ],
 "metadata": {
  "kernelspec": {
   "display_name": "Python 3",
   "language": "python",
   "name": "python3"
  },
  "language_info": {
   "codemirror_mode": {
    "name": "ipython",
    "version": 3
   },
   "file_extension": ".py",
   "mimetype": "text/x-python",
   "name": "python",
   "nbconvert_exporter": "python",
   "pygments_lexer": "ipython3",
   "version": "3.8.10"
  },
  "toc": {
   "base_numbering": 1,
   "nav_menu": {},
   "number_sections": true,
   "sideBar": true,
   "skip_h1_title": false,
   "title_cell": "Table of Contents",
   "title_sidebar": "Contents",
   "toc_cell": false,
   "toc_position": {},
   "toc_section_display": true,
   "toc_window_display": false
  }
 },
 "nbformat": 4,
 "nbformat_minor": 5
}
